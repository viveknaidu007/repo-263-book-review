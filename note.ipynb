{
 "cells": [
  {
   "cell_type": "markdown",
   "metadata": {},
   "source": [
    "# Backend\n"
   ]
  },
  {
   "cell_type": "code",
   "execution_count": null,
   "metadata": {
    "vscode": {
     "languageId": "plaintext"
    }
   },
   "outputs": [],
   "source": [
    "# python setup :\n",
    "python -m venv venv\n",
    "source venv/bin/activate\n",
    "\n",
    "or\n",
    "# i mostly use conda env\n",
    "#python conda setup:\n",
    "conda create -n books python=3.10\n",
    "conda activate books\n",
    "\n",
    "\n",
    "#\n",
    "pip install django djangorestframework\n",
    "\n",
    "# Create a new Django project\n",
    "django-admin startproject book_review_platform\n",
    "\n",
    "#\n",
    "cd book_review_platform\n",
    "\n",
    "# Create a new app called 'books'\n",
    "python manage.py startapp books\n",
    "\n",
    "# Run migrations to set up the database\n",
    "python manage.py makemigrations\n",
    "python manage.py migrate\n",
    "\n",
    "# Create a superuser for admin access\n",
    "python manage.py createsuperuser\n",
    "\n",
    "# Start the Django development server\n",
    "python manage.py runserver"
   ]
  },
  {
   "cell_type": "code",
   "execution_count": null,
   "metadata": {
    "vscode": {
     "languageId": "plaintext"
    }
   },
   "outputs": [],
   "source": [
    "#updating logic step by step\n",
    "\n",
    "1. book_review_platform/settings.py\n",
    "\n",
    "# Add these to INSTALLED_APPS\n",
    "INSTALLED_APPS = [\n",
    "    ...\n",
    "    'rest_framework',\n",
    "    'books.apps.BooksConfig',\n",
    "]\n",
    "\n",
    "\n",
    "2. books/models.py\n",
    "\n",
    "3. books/serializers.py\n",
    "\n",
    "4. books/views.py\n",
    "\n",
    "5. books/urls.py\n",
    "\n",
    "6. book_review_platform/urls.py\n",
    "\n",
    "7. books/admin.py\n",
    "\n",
    "8. Run Migrations\n",
    "python manage.py makemigrations\n",
    "python manage.py migrate"
   ]
  },
  {
   "cell_type": "markdown",
   "metadata": {},
   "source": [
    "# frontend"
   ]
  },
  {
   "cell_type": "code",
   "execution_count": null,
   "metadata": {
    "vscode": {
     "languageId": "plaintext"
    }
   },
   "outputs": [],
   "source": [
    "#React + Vite Setup\n",
    "npm create vite@latest book-review-frontend -- --template react\n",
    "\n",
    "cd book-review-frontend\n",
    "\n",
    "# Install dependencies\n",
    "npm install axios react-router-dom\n",
    "\n",
    "# Start the development server\n",
    "npm run dev"
   ]
  },
  {
   "cell_type": "code",
   "execution_count": null,
   "metadata": {
    "vscode": {
     "languageId": "plaintext"
    }
   },
   "outputs": [],
   "source": [
    "#updating logic setp by step\n",
    "\n",
    "1. src/api.js\n",
    "Set up API calls with Axios:\n",
    "\n",
    "2. src/components/BookList.jsx\n",
    "Display the list of books with filters:\n",
    "\n",
    "3. src/components/BookDetails.jsx\n",
    "Show book details and manage reviews:\n",
    "\n",
    "4. src/components/ReviewForm.jsx\n",
    "Form to add or edit reviews:\n",
    "\n",
    "5. src/App.jsx\n",
    "Set up routing:\n",
    "\n",
    "6. src/main.jsx\n",
    "Entry point:\n",
    "\n",
    "7. src/index.css\n",
    "Basic styling:"
   ]
  },
  {
   "cell_type": "markdown",
   "metadata": {},
   "source": [
    "# cors"
   ]
  },
  {
   "cell_type": "code",
   "execution_count": null,
   "metadata": {
    "vscode": {
     "languageId": "plaintext"
    }
   },
   "outputs": [],
   "source": [
    "#hence we are using diffrent origin ports , we need cors for request handling\n",
    "\n",
    "#\n",
    "pip install django-cors-headers\n",
    "\n",
    "#\n",
    "book_review_platform/settings.py\n",
    "\n",
    "#\n",
    "INSTALLED_APPS = [\n",
    "    ...\n",
    "    'corsheaders',\n",
    "]\n",
    "\n",
    "MIDDLEWARE = [\n",
    "    ...\n",
    "    'corsheaders.middleware.CorsMiddleware',\n",
    "    'django.middleware.common.CommonMiddleware',\n",
    "    ...\n",
    "]\n",
    "\n",
    "CORS_ORIGIN_ALLOW_ALL = True  "
   ]
  }
 ],
 "metadata": {
  "language_info": {
   "name": "python"
  }
 },
 "nbformat": 4,
 "nbformat_minor": 2
}
